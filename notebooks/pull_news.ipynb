{
 "cells": [
  {
   "cell_type": "code",
   "execution_count": 1,
   "metadata": {},
   "outputs": [],
   "source": [
    "import requests\n",
    "from urllib.parse import urlparse\n",
    "\n",
    "from GoogleNews import GoogleNews\n",
    "\n",
    "googlenews = GoogleNews()"
   ]
  },
  {
   "cell_type": "code",
   "execution_count": 2,
   "metadata": {},
   "outputs": [],
   "source": [
    "def skip_redirect(uri: str) -> str:\n",
    "    \"\"\" Returns destination URI when given redirect URI\"\"\"\n",
    "    #try:\n",
    "    return requests.get(uri).url\n",
    "    #except:\n",
    "    #return \"URL Not found!\"\n"
   ]
  },
  {
   "cell_type": "code",
   "execution_count": 3,
   "metadata": {},
   "outputs": [],
   "source": [
    "def guess_news_source(uri):        \n",
    "    domain = urlparse(uri).netloc\n",
    "    return domain.split('.')[-2]"
   ]
  },
  {
   "cell_type": "code",
   "execution_count": 29,
   "metadata": {},
   "outputs": [],
   "source": [
    "def create_tweet_text(text: str, hashtags: str, url: str):\n",
    "    cutoff = 280 - len(hashtags) - 5 # for buffer lets leave 5 out\n",
    "    return text[:cutoff] + \"\\n\" + hashtags + \"\\n\" + url"
   ]
  },
  {
   "cell_type": "code",
   "execution_count": 34,
   "metadata": {},
   "outputs": [],
   "source": [
    "def get_news(title = \"Iran Protests\"):\n",
    "    googlenews = GoogleNews()\n",
    "    googlenews.set_lang('en')\n",
    "    #googlenews.set_time_range('12/01/2022','12/02/2022')\n",
    "    googlenews = GoogleNews(period='4h')\n",
    "    googlenews.set_encode('utf-8')\n",
    "    googlenews.get_news('Iran Revolution')\n",
    "\n",
    "    results = googlenews.results(sort=True)\n",
    "    if results is None:\n",
    "        return []\n",
    "    else:\n",
    "        return [{\n",
    "            'title':res['title'],\n",
    "            'url': \"https://\" + res['link'],\n",
    "        } for res in results]"
   ]
  },
  {
   "cell_type": "code",
   "execution_count": 36,
   "metadata": {},
   "outputs": [
    {
     "name": "stdout",
     "output_type": "stream",
     "text": [
      "Canada lays fresh sanctions against senior Iranian officials, entities - National | Globalnews.ca\n",
      "#IranRevolution #GLOBALNEWS\n",
      "https://globalnews.ca/news/9321105/canada-sanctions-iranian-officials-entities-dec/\n"
     ]
    }
   ],
   "source": [
    "news_title = get_news()[0]['title']\n",
    "hashtags = \"#IranRevolution\"\n",
    "\n",
    "target_news_link = skip_redirect(\n",
    "    get_news()[0]['url']\n",
    ")\n",
    "news_source = guess_news_source(target_news_link).upper()\n",
    "\n",
    "hashtags = hashtags + \" #\" + news_source\n",
    "\n",
    "print(\n",
    "    create_tweet_text(news_title, hashtags, target_news_link)\n",
    "    )"
   ]
  },
  {
   "cell_type": "code",
   "execution_count": null,
   "metadata": {},
   "outputs": [],
   "source": []
  }
 ],
 "metadata": {
  "kernelspec": {
   "display_name": "Python 3.8.15 ('news')",
   "language": "python",
   "name": "python3"
  },
  "language_info": {
   "codemirror_mode": {
    "name": "ipython",
    "version": 3
   },
   "file_extension": ".py",
   "mimetype": "text/x-python",
   "name": "python",
   "nbconvert_exporter": "python",
   "pygments_lexer": "ipython3",
   "version": "3.8.15"
  },
  "orig_nbformat": 4,
  "vscode": {
   "interpreter": {
    "hash": "916602f4201d3633dcdcce95c1f99212ef872ce73688ccb2f9f91c7abfdbcb60"
   }
  }
 },
 "nbformat": 4,
 "nbformat_minor": 2
}
