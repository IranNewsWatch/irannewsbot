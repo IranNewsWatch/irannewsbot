{
 "cells": [
  {
   "cell_type": "code",
   "execution_count": 92,
   "metadata": {},
   "outputs": [],
   "source": [
    "import requests\n",
    "from urllib.parse import urlparse\n",
    "from GoogleNews import GoogleNews\n",
    "from os.path import isfile\n",
    "import pandas as pd\n",
    "from datetime import datetime"
   ]
  },
  {
   "cell_type": "code",
   "execution_count": 2,
   "metadata": {},
   "outputs": [],
   "source": [
    "def skip_redirect(uri: str) -> str:\n",
    "    \"\"\" Returns destination URI when given redirect URI\"\"\"\n",
    "    return requests.get(uri).url\n"
   ]
  },
  {
   "cell_type": "code",
   "execution_count": 3,
   "metadata": {},
   "outputs": [],
   "source": [
    "def guess_news_source(uri):        \n",
    "    domain = urlparse(uri).netloc\n",
    "    return domain.split('.')[-2]"
   ]
  },
  {
   "cell_type": "code",
   "execution_count": 4,
   "metadata": {},
   "outputs": [],
   "source": [
    "def create_tweet_text(text: str, hashtags: str, url: str):\n",
    "    cutoff = 280 - len(hashtags) - 5 # for buffer lets leave 5 out\n",
    "    return text[:cutoff] + \"\\n\" + hashtags + \"\\n\" + url"
   ]
  },
  {
   "cell_type": "code",
   "execution_count": 93,
   "metadata": {},
   "outputs": [],
   "source": [
    "def get_news(title = \"Iran Protests\"):\n",
    "    googlenews = GoogleNews()\n",
    "    googlenews.set_lang('en')\n",
    "    #googlenews.set_time_range('12/01/2022','12/02/2022')\n",
    "    googlenews = GoogleNews(period='4h')\n",
    "    googlenews.set_encode('utf-8')\n",
    "    googlenews.get_news('Iran Revolution')\n",
    "\n",
    "    results = googlenews.results()\n",
    "    if results is None:\n",
    "        return [], results\n",
    "    else:\n",
    "        return [{\n",
    "            'title':res['title'],\n",
    "            'url': skip_redirect(\"https://\" + res['link']),\n",
    "            'datetime': res['datetime'],\n",
    "            'retreived': datetime.now(),\n",
    "            'tweeted': False,\n",
    "        } for res in results], results"
   ]
  },
  {
   "cell_type": "code",
   "execution_count": 120,
   "metadata": {},
   "outputs": [],
   "source": [
    "def recycle_data(data_new):\n",
    "    yesterday = datetime.now() - pd.Timedelta(\"1D\")\n",
    "    return data_new[data_new['datetime']>=yesterday]\n"
   ]
  },
  {
   "cell_type": "code",
   "execution_count": 124,
   "metadata": {},
   "outputs": [],
   "source": [
    "def update_data(data, filename):\n",
    "    if isfile(filename):\n",
    "        file_data = pd.read_csv(filename, parse_dates = ['datetime', 'retreived'])\n",
    "        data_new = pd.concat([data.copy(), file_data], axis =0)\n",
    "        \n",
    "        #make sure tweeted column stays updated\n",
    "        data_new['tweeted'] = data_new.groupby('url')['tweeted'].transform(lambda x: max(x))\n",
    "\n",
    "        data_new = data_new.drop_duplicates(subset=['url'])\n",
    "        data_new = recycle_data(data_new)\n",
    "        data_new.to_csv(filename, index=False)\n",
    "    else:\n",
    "        data.to_csv(filename, index=False)\n",
    "        data_new = data.copy()\n",
    "    return data_new.sort_values(['datetime'], ascending=False)\n",
    "\n",
    "    "
   ]
  },
  {
   "cell_type": "code",
   "execution_count": 71,
   "metadata": {},
   "outputs": [],
   "source": [
    "# news_title = get_news()[0][0]['title']\n",
    "# hashtags = \"#IranRevolution\"\n",
    "\n",
    "# target_news_link = skip_redirect(\n",
    "#     get_news()[0]['url']\n",
    "# )\n",
    "# news_source = guess_news_source(target_news_link).upper()\n",
    "\n",
    "# hashtags = hashtags + \" #\" + news_source\n",
    "\n",
    "# # print(\n",
    "# #     create_tweet_text(news_title, hashtags, target_news_link)\n",
    "# #     )"
   ]
  },
  {
   "cell_type": "code",
   "execution_count": 103,
   "metadata": {},
   "outputs": [],
   "source": [
    "news_collected, results_list =  get_news()\n",
    "news_df = pd.DataFrame(news_collected)"
   ]
  },
  {
   "cell_type": "code",
   "execution_count": 106,
   "metadata": {},
   "outputs": [],
   "source": [
    "data_new = update_data(news_df, 'news_log.csv')"
   ]
  },
  {
   "cell_type": "code",
   "execution_count": 130,
   "metadata": {},
   "outputs": [
    {
     "name": "stdout",
     "output_type": "stream",
     "text": [
      "Iranian protesters call for 3-day strike starting Monday https://www.cbc.ca/news/world/iran-protesters-strike-1.6673891\n"
     ]
    }
   ],
   "source": [
    "news_tile, news_url, _, _ = data_new.head(1).values[0]\n",
    "\n",
    "print(news_tile, news_url)"
   ]
  },
  {
   "cell_type": "code",
   "execution_count": 146,
   "metadata": {},
   "outputs": [
    {
     "data": {
      "text/html": [
       "<div>\n",
       "<style scoped>\n",
       "    .dataframe tbody tr th:only-of-type {\n",
       "        vertical-align: middle;\n",
       "    }\n",
       "\n",
       "    .dataframe tbody tr th {\n",
       "        vertical-align: top;\n",
       "    }\n",
       "\n",
       "    .dataframe thead th {\n",
       "        text-align: right;\n",
       "    }\n",
       "</style>\n",
       "<table border=\"1\" class=\"dataframe\">\n",
       "  <thead>\n",
       "    <tr style=\"text-align: right;\">\n",
       "      <th></th>\n",
       "      <th>url</th>\n",
       "      <th>tweeted</th>\n",
       "    </tr>\n",
       "  </thead>\n",
       "  <tbody>\n",
       "    <tr>\n",
       "      <th>0</th>\n",
       "      <td>1</td>\n",
       "      <td>1</td>\n",
       "    </tr>\n",
       "    <tr>\n",
       "      <th>1</th>\n",
       "      <td>1</td>\n",
       "      <td>0</td>\n",
       "    </tr>\n",
       "    <tr>\n",
       "      <th>2</th>\n",
       "      <td>2</td>\n",
       "      <td>0</td>\n",
       "    </tr>\n",
       "  </tbody>\n",
       "</table>\n",
       "</div>"
      ],
      "text/plain": [
       "   url  tweeted\n",
       "0    1        1\n",
       "1    1        0\n",
       "2    2        0"
      ]
     },
     "execution_count": 146,
     "metadata": {},
     "output_type": "execute_result"
    }
   ],
   "source": [
    "df1 = pd.DataFrame(\n",
    "    {\n",
    "        'url':[1, 1, 2], \n",
    "        'tweeted':[1, 0, 0]\n",
    "    }\n",
    "    )\n",
    "df1"
   ]
  },
  {
   "cell_type": "code",
   "execution_count": 148,
   "metadata": {},
   "outputs": [],
   "source": [
    "df1['tweeted'] = df1.groupby('url')['tweeted'].transform(lambda x: max(x))\n"
   ]
  },
  {
   "cell_type": "code",
   "execution_count": 149,
   "metadata": {},
   "outputs": [
    {
     "data": {
      "text/html": [
       "<div>\n",
       "<style scoped>\n",
       "    .dataframe tbody tr th:only-of-type {\n",
       "        vertical-align: middle;\n",
       "    }\n",
       "\n",
       "    .dataframe tbody tr th {\n",
       "        vertical-align: top;\n",
       "    }\n",
       "\n",
       "    .dataframe thead th {\n",
       "        text-align: right;\n",
       "    }\n",
       "</style>\n",
       "<table border=\"1\" class=\"dataframe\">\n",
       "  <thead>\n",
       "    <tr style=\"text-align: right;\">\n",
       "      <th></th>\n",
       "      <th>url</th>\n",
       "      <th>tweeted</th>\n",
       "    </tr>\n",
       "  </thead>\n",
       "  <tbody>\n",
       "    <tr>\n",
       "      <th>0</th>\n",
       "      <td>1</td>\n",
       "      <td>1</td>\n",
       "    </tr>\n",
       "    <tr>\n",
       "      <th>1</th>\n",
       "      <td>1</td>\n",
       "      <td>1</td>\n",
       "    </tr>\n",
       "    <tr>\n",
       "      <th>2</th>\n",
       "      <td>2</td>\n",
       "      <td>0</td>\n",
       "    </tr>\n",
       "  </tbody>\n",
       "</table>\n",
       "</div>"
      ],
      "text/plain": [
       "   url  tweeted\n",
       "0    1        1\n",
       "1    1        1\n",
       "2    2        0"
      ]
     },
     "execution_count": 149,
     "metadata": {},
     "output_type": "execute_result"
    }
   ],
   "source": [
    "df1"
   ]
  },
  {
   "cell_type": "code",
   "execution_count": null,
   "metadata": {},
   "outputs": [],
   "source": []
  }
 ],
 "metadata": {
  "kernelspec": {
   "display_name": "Python 3.8.15 ('newswatch')",
   "language": "python",
   "name": "python3"
  },
  "language_info": {
   "codemirror_mode": {
    "name": "ipython",
    "version": 3
   },
   "file_extension": ".py",
   "mimetype": "text/x-python",
   "name": "python",
   "nbconvert_exporter": "python",
   "pygments_lexer": "ipython3",
   "version": "3.8.15"
  },
  "orig_nbformat": 4,
  "vscode": {
   "interpreter": {
    "hash": "50fc90b77459ca88d7631fc04818db51ac236dd4e8e0f59a1db34ba329d5d03d"
   }
  }
 },
 "nbformat": 4,
 "nbformat_minor": 2
}
